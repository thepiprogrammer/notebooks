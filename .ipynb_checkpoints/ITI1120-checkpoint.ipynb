{
 "cells": [
  {
   "cell_type": "code",
   "execution_count": 1,
   "metadata": {},
   "outputs": [
    {
     "name": "stdout",
     "output_type": "stream",
     "text": [
      "7\n"
     ]
    }
   ],
   "source": [
    "a = True\n",
    "n = 7\n",
    "while a:\n",
    "    a = False\n",
    "    if n < 10:\n",
    "        print(n)\n",
    "        continue\n",
    "        print(\"aaaa\")\n",
    "    elif n < 20:\n",
    "        print(n)"
   ]
  },
  {
   "cell_type": "code",
   "execution_count": 20,
   "metadata": {},
   "outputs": [
    {
     "name": "stdout",
     "output_type": "stream",
     "text": [
      "24 38\n",
      "875\n"
     ]
    }
   ],
   "source": [
    "a, b = list(map(int, input().split()))\n",
    "if b > a and a > 1 and b > 1: a, b = b, a\n",
    "elif b == 1: a, b = b, a\n",
    "print(a*(b-1)+1)"
   ]
  },
  {
   "cell_type": "markdown",
   "metadata": {},
   "source": [
    "# "
   ]
  },
  {
   "cell_type": "code",
   "execution_count": 1,
   "metadata": {},
   "outputs": [
    {
     "name": "stdout",
     "output_type": "stream",
     "text": [
      "60.35\n"
     ]
    }
   ],
   "source": [
    "a, b = 7.53, 67.9\n",
    "\n",
    "n = b - a\n",
    "\n",
    "print(0.05 * round(n/0.05))"
   ]
  },
  {
   "cell_type": "code",
   "execution_count": 13,
   "metadata": {},
   "outputs": [
    {
     "name": "stdout",
     "output_type": "stream",
     "text": [
      "30\n",
      "half past 8 o' clock\n"
     ]
    }
   ],
   "source": [
    "def time_format(a, b):\n",
    "    \n",
    "    b = 5 * round(b/5)\n",
    "    \n",
    "    if b == 0:\n",
    "        a, b = str(a), str(b)\n",
    "        return a + \"o' clock\"\n",
    "    elif b < 30:\n",
    "        a, b = str(a), str(b)\n",
    "        return b + \" minutes past \" + a + \" o' clock\"\n",
    "    elif b == 30:\n",
    "        a, b = str(a), str(b)\n",
    "        return \"half past \" + a + \" o' clock\"\n",
    "    else:\n",
    "        a += 1\n",
    "        if a > 12:\n",
    "            a -= 12\n",
    "        a, b = str(a), str(b)\n",
    "        return b + \"minutes to \" + a + \" o' clock\"\n",
    "\n",
    "print(time_format(8, 30))\n"
   ]
  },
  {
   "cell_type": "code",
   "execution_count": null,
   "metadata": {},
   "outputs": [],
   "source": []
  }
 ],
 "metadata": {
  "kernelspec": {
   "display_name": "Python 3",
   "language": "python",
   "name": "python3"
  },
  "language_info": {
   "codemirror_mode": {
    "name": "ipython",
    "version": 3
   },
   "file_extension": ".py",
   "mimetype": "text/x-python",
   "name": "python",
   "nbconvert_exporter": "python",
   "pygments_lexer": "ipython3",
   "version": "3.7.2"
  }
 },
 "nbformat": 4,
 "nbformat_minor": 2
}
