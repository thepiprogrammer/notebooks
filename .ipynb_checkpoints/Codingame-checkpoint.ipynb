{
 "cells": [
  {
   "cell_type": "code",
   "execution_count": 1,
   "metadata": {},
   "outputs": [
    {
     "name": "stdout",
     "output_type": "stream",
     "text": [
      "\n",
      "\n",
      "\n"
     ]
    }
   ],
   "source": [
    "x=input();y=input()\n",
    "print(\"\".join([\"1\"if x[i]==y[i]==\"1\"else\"0\"for i in range(len(x))]))"
   ]
  },
  {
   "cell_type": "code",
   "execution_count": 3,
   "metadata": {},
   "outputs": [
    {
     "name": "stdout",
     "output_type": "stream",
     "text": [
      "a\n",
      "*****\n",
      "* a *\n",
      "*****\n"
     ]
    }
   ],
   "source": [
    "a=input();print(\"*\"*(len(a)+4)+\"\\n\"+\"*\",a,\"*\"+\"\\n\"+\"*\"*(len(a)+4))"
   ]
  },
  {
   "cell_type": "code",
   "execution_count": 7,
   "metadata": {},
   "outputs": [
    {
     "name": "stdout",
     "output_type": "stream",
     "text": [
      "3 4\n",
      "1 4 16\n"
     ]
    }
   ],
   "source": [
    "n,r=map(int,input().split())\n",
    "print(*[r**i for i in range(n)])"
   ]
  },
  {
   "cell_type": "code",
   "execution_count": null,
   "metadata": {},
   "outputs": [],
   "source": [
    "## chemical reaction program\n",
    "def gcd(a, b):\n",
    "    if b == 0: return a\n",
    "    else: return gcd(b, a % b)\n",
    "\n",
    "element1, valency1 = input().split(); valency1 = int(valency1)\n",
    "element2, valency2 = input().split(); valency2 = int(valency2)\n",
    "\n",
    "if valency2 * valency1 >= 0:\n",
    "    print(\"IMPOSSIBLE\")\n",
    "else:\n",
    "    valency1 = abs(valency1); o1 = valency1\n",
    "    valency2 = abs(valency2); o2 = valency2\n",
    "    valency1 = int(valency1 / gcd(o1, o2))\n",
    "    valency2 = int(valency2 / gcd(o1, o2))\n",
    "    if valency1 == 1 and valency2 != 1: print(element1 + str(valency2) + element2)\n",
    "    elif valency2 == 1 and valency1 != 1: print(element1 + element2 + str(valency1))\n",
    "    elif valency1 == 1 and valency2 == 1: print((element1 + element2))\n",
    "    else: print(element1 + str(valency2) + element2 + str(valency1))"
   ]
  },
  {
   "cell_type": "code",
   "execution_count": null,
   "metadata": {},
   "outputs": [],
   "source": []
  }
 ],
 "metadata": {
  "kernelspec": {
   "display_name": "Python 3",
   "language": "python",
   "name": "python3"
  },
  "language_info": {
   "codemirror_mode": {
    "name": "ipython",
    "version": 3
   },
   "file_extension": ".py",
   "mimetype": "text/x-python",
   "name": "python",
   "nbconvert_exporter": "python",
   "pygments_lexer": "ipython3",
   "version": "3.6.4"
  }
 },
 "nbformat": 4,
 "nbformat_minor": 2
}
