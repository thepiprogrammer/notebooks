{
 "cells": [
  {
   "cell_type": "markdown",
   "metadata": {},
   "source": [
    "## This is a genetic algorithms program set"
   ]
  },
  {
   "cell_type": "code",
   "execution_count": 45,
   "metadata": {},
   "outputs": [],
   "source": [
    "import random\n",
    "alphabet = 'abcdefghijklmnopqrstuvwxyzABCDEFGHIJKLMNOPQRSTUVWXYZ'\n",
    "\n",
    "def get_letter():\n",
    "    return random.choice(alphabet)\n",
    "\n",
    "def create_chromosome(size):\n",
    "    s=\"\"\n",
    "    for i in range(size):\n",
    "        s+=get_letter()\n",
    "    return(s)"
   ]
  },
  {
   "cell_type": "code",
   "execution_count": 46,
   "metadata": {},
   "outputs": [
    {
     "data": {
      "text/plain": [
       "'eVvRrQxrSZiNbTFZrxeChDAYQU'"
      ]
     },
     "execution_count": 46,
     "metadata": {},
     "output_type": "execute_result"
    }
   ],
   "source": [
    "create_chromosome(26)"
   ]
  },
  {
   "cell_type": "code",
   "execution_count": 47,
   "metadata": {},
   "outputs": [],
   "source": [
    "def get_score(chrom):\n",
    "    key = 'QweJWLgWLIhdvkwyHouO'\n",
    "    c = list(chrom)\n",
    "    k = list(key)\n",
    "    i=0\n",
    "    while i < len(k):\n",
    "        if k[i] in c:\n",
    "            c.remove(k[i])\n",
    "            k.pop(i)\n",
    "        else:\n",
    "            i += 1\n",
    "    a = (len(chrom)-len(c))/len(chrom)\n",
    "    return a"
   ]
  },
  {
   "cell_type": "code",
   "execution_count": 48,
   "metadata": {},
   "outputs": [],
   "source": [
    "import random\n",
    "\n",
    "def score(chrom):\n",
    "    return get_score(chrom) # floating number between 0 and 1. The better the chromosome, the closer to 1\n",
    "\n",
    "def selection(chromosomes_list):\n",
    "    GRADED_RETAIN_PERCENT = 0.3     # percentage of retained best fitting individuals\n",
    "    NONGRADED_RETAIN_PERCENT = 0.2  # percentage of retained remaining individuals (randomly selected)\n",
    "    scores_dict = {}\n",
    "        \n",
    "    # TODO: implement the selection function\n",
    "    #  * Sort individuals by their fitting score\n",
    "    #  * Select the best individuals\n",
    "    #  * Randomly select other individuals\n",
    "    \n",
    "    for i in range(len(chromosomes_list)):\n",
    "        curr = chromosomes_list[i]\n",
    "        scores_dict[curr] = score(curr)\n",
    "        \n",
    "    selected = []\n",
    "    \n",
    "    scores = sorted(scores_dict.items(), key=lambda kv: kv[1])\n",
    "    scores.reverse()\n",
    "    #print(scores)\n",
    "    \n",
    "    l = len(scores)\n",
    "    \n",
    "    for i in range(int(GRADED_RETAIN_PERCENT*l)):\n",
    "        selected.append(scores[i][0])\n",
    "        scores.pop(i)\n",
    "        \n",
    "    for i in range(int(NONGRADED_RETAIN_PERCENT*l)):\n",
    "        z = random.choice(scores)\n",
    "        selected.append(z[0])\n",
    "        scores.remove(z)\n",
    "    \n",
    "    return selected"
   ]
  },
  {
   "cell_type": "code",
   "execution_count": 49,
   "metadata": {},
   "outputs": [
    {
     "data": {
      "text/plain": [
       "['LDTnPNuaVdnSyrMpllIe',\n",
       " 'vZqhviNbCEuzJEtswvqV',\n",
       " 'gVqyFBNMFrxJVYKhrcoa',\n",
       " 'KVlwiRFaZdAYgWrSQGcM',\n",
       " 'grqFWbJtJpBEfbEZavSt']"
      ]
     },
     "execution_count": 49,
     "metadata": {},
     "output_type": "execute_result"
    }
   ],
   "source": [
    "selection(['nRLTPNabIglNSDsPkbBY', 'KVlwiRFaZdAYgWrSQGcM', 'grqFWbJtJpBEfbEZavSt', 'gVqyFBNMFrxJVYKhrcoa', 'SMQusibGODXYTteMkxPF', 'zlIMmIhIDmOmyDqrJwYs', 'vZqhviNbCEuzJEtswvqV', 'LDTnPNuaVdnSyrMpllIe', 'rhvNDnUIKHbfpUFntAtX', 'jmmqRZgmfcszPtXxusSG'])"
   ]
  },
  {
   "cell_type": "code",
   "execution_count": 50,
   "metadata": {},
   "outputs": [],
   "source": [
    "# Chromosome crossover\n",
    "\n",
    "def crossover(parent1, parent2):\n",
    "    # TODO: implement the crossover function\n",
    "    #  * Select half of the parent genetic material\n",
    "    #  * child = half_parent1 + half_parent2\n",
    "    #  * Return the new chromosome\n",
    "    #  * Genes should not be moved\n",
    "    return parent1[0:int(len(parent1)/2)]+parent2[int(len(parent2)/2):]"
   ]
  },
  {
   "cell_type": "code",
   "execution_count": 51,
   "metadata": {},
   "outputs": [
    {
     "name": "stdout",
     "output_type": "stream",
     "text": [
      "AAAABBBB\n",
      "VHFyYNasyaolUBZkMdBz\n",
      "xadgHOQkUvnYnBoJMNQgzXaZFrRzZxlxmmyxWgvr\n"
     ]
    }
   ],
   "source": [
    "print(crossover(\"AAAAAAAA\",\"BBBBBBBB\"))\n",
    "print(crossover(\"VHFyYNasyaBVeFEdFPWy\",\"zNxISamKololUBZkMdBz\"))\n",
    "print(crossover(\"xadgHOQkUvnYnBoJMNQgFieoTxpttzOVEFSaNpGx\",\"cmZpPCJSifHsQzJDSYYJzXaZFrRzZxlxmmyxWgvr\"))"
   ]
  },
  {
   "cell_type": "code",
   "execution_count": 52,
   "metadata": {},
   "outputs": [],
   "source": [
    "## Mutation\n",
    "\n",
    "import random\n",
    "\n",
    "def get_letter():\n",
    "    return random.choice(alphabet)\n",
    "    \n",
    "def mutation(chrom):\n",
    "    # TODO: implement the mutation function\n",
    "    #  * Random gene mutation : a character is replaced\n",
    "    c = list(chrom)\n",
    "    i = random.randint(1,len(chrom))\n",
    "    c[i] = get_letter()\n",
    "    chrom = \"\".join(c)\n",
    "    return chrom"
   ]
  },
  {
   "cell_type": "code",
   "execution_count": 54,
   "metadata": {},
   "outputs": [
    {
     "name": "stdout",
     "output_type": "stream",
     "text": [
      "VnsyfRNouNpNcXKDmuAF\n",
      "VGZuMPHnadKXtdVNeBUz\n"
     ]
    }
   ],
   "source": [
    "print(mutation(\"VfsyfRNouNpNcXKDmuAF\"))\n",
    "print(mutation(\"VGZuMPHnadKPtdVNeBUz\"))"
   ]
  },
  {
   "cell_type": "code",
   "execution_count": null,
   "metadata": {},
   "outputs": [],
   "source": []
  }
 ],
 "metadata": {
  "kernelspec": {
   "display_name": "Python 3",
   "language": "python",
   "name": "python3"
  },
  "language_info": {
   "codemirror_mode": {
    "name": "ipython",
    "version": 3
   },
   "file_extension": ".py",
   "mimetype": "text/x-python",
   "name": "python",
   "nbconvert_exporter": "python",
   "pygments_lexer": "ipython3",
   "version": "3.7.2"
  }
 },
 "nbformat": 4,
 "nbformat_minor": 2
}
